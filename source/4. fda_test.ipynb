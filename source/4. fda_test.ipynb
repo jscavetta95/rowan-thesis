{
 "cells": [
  {
   "cell_type": "code",
   "execution_count": null,
   "metadata": {
    "collapsed": false,
    "jupyter": {
     "outputs_hidden": false
    },
    "pycharm": {
     "name": "#%%\n"
    }
   },
   "outputs": [],
   "source": [
    "import os\n",
    "\n",
    "import numpy as np\n",
    "import pandas as pd\n",
    "import plotly.figure_factory as ff\n",
    "import plotly.graph_objects as go\n",
    "import matplotlib.pyplot as plt\n",
    "import shap\n",
    "from joblib import load\n",
    "from tensorflow.keras.models import load_model\n",
    "\n",
    "from featurize import generate_descriptors, generate_fingerprints, extract_smiles, extract_smile_structures\n",
    "\n",
    "shap.initjs()\n",
    "\n",
    "import warnings  \n",
    "warnings.filterwarnings('ignore')"
   ]
  },
  {
   "cell_type": "code",
   "execution_count": null,
   "metadata": {
    "collapsed": false,
    "jupyter": {
     "outputs_hidden": false
    },
    "pycharm": {
     "name": "#%%\n"
    }
   },
   "outputs": [],
   "source": [
    "test_set = pd.read_csv('data/fda_test.csv', low_memory=False)\n",
    "mordred_features = generate_descriptors(test_set.smile.to_list())\n",
    "fingerprints = generate_fingerprints(test_set.smile)\n",
    "test_set = pd.concat([test_set, mordred_features, fingerprints], axis=1)\n",
    "\n",
    "features = test_set.drop(['name', 'smile', 'type'], axis=1).astype(float)\n",
    "smile_features = extract_smiles(test_set.smile, max_length=250).astype(float)\n",
    "smile_structure = extract_smile_structures(test_set.smile, resolution=100, scale=(-15, 15)).astype(float)\n",
    "\n",
    "meta = test_set[['name', 'type']]"
   ]
  },
  {
   "cell_type": "code",
   "execution_count": null,
   "metadata": {},
   "outputs": [],
   "source": [
    "def image_plot(shap_values, labels, figsize):\n",
    "    fig, axes = plt.subplots(nrows=shap_values.shape[0], ncols=1, figsize=figsize)\n",
    "    for row in range(shap_values.shape[0]):\n",
    "        abs_vals = np.abs(shap_values.sum(-1)).flatten()\n",
    "        max_val = np.nanpercentile(abs_vals, 99.9)\n",
    "        axes[row].set_title(labels[row], fontsize=11)\n",
    "        sv = shap_values[row].sum(-1)\n",
    "        im = axes[row].imshow(sv, cmap=shap.plots.colors.red_transparent_blue, vmin=-max_val, vmax=max_val)\n",
    "        for label in (axes[row].get_xticklabels() + axes[row].get_yticklabels()):\n",
    "            label.set_fontsize(8)\n",
    "    fig.subplots_adjust(wspace=0, hspace=0.3)\n",
    "    cb = fig.colorbar(im, ax=np.ravel(axes).tolist(), label=\"SHAP value\", orientation=\"horizontal\", aspect=figsize[0]/0.2, pad=0.08)\n",
    "    cb.ax.xaxis.label.set_fontsize(10)\n",
    "    for label in (cb.ax.get_xticklabels()):\n",
    "        label.set_fontsize(8)\n",
    "    cb.outline.set_visible(False)\n",
    "\n",
    "def plot_radar(values_best, values_worse, categories):\n",
    "    fig = go.Figure()\n",
    "    fig.add_trace(go.Scatterpolar(r=values_best, theta=categories, fill='toself', name='Best Prediction'))\n",
    "    fig.add_trace(go.Scatterpolar(r=values_worse, theta=categories, fill='toself', name='Worse Prediction'))\n",
    "    fig.update_layout(showlegend=True, autosize=False, width=500, height=500)\n",
    "    fig.show()"
   ]
  },
  {
   "cell_type": "code",
   "execution_count": null,
   "metadata": {
    "collapsed": false,
    "jupyter": {
     "outputs_hidden": false
    },
    "pycharm": {
     "name": "#%%\n"
    }
   },
   "outputs": [],
   "source": [
    "model_paths = os.listdir('models')\n",
    "results = np.ndarray((meta.shape[0] * len(model_paths), 4), dtype=object)\n",
    "for model_index, model_path in enumerate(model_paths):\n",
    "    print(model_path)\n",
    "    if '.h5' in model_path:\n",
    "        model = load_model(f'models/{model_path}')\n",
    "        if '2d' in model_path:\n",
    "            predictions = model.predict_proba(smile_structure)[:, 0]\n",
    "            sorted_indices = np.argsort(predictions, axis=0)\n",
    "            index = [sorted_indices[-1], sorted_indices[1]]\n",
    "            explainer = shap.GradientExplainer(model, smile_structure)\n",
    "            shap_values = explainer.shap_values(smile_structure)\n",
    "            plt.figure(figsize=(2.5, 2.5))\n",
    "            plt.matshow(np.amax(smile_structure[index[0],:,:,:], 2), cmap=plt.cm.gray_r, fignum=1)\n",
    "            plt.savefig(f\"images/example_structure_1.svg\", dpi=300)\n",
    "            plt.figure(figsize=(2.5, 2.5))\n",
    "            plt.matshow(np.amax(smile_structure[index[1],:,:,:], 2), cmap=plt.cm.gray_r, fignum=2)\n",
    "            plt.savefig(f\"images/example_structure_2.svg\", dpi=300)\n",
    "            image_plot(shap_values[0][index], meta.name[index].values, figsize=(3,8))\n",
    "            plt.savefig(f\"images/2d_shap.svg\", dpi=300)\n",
    "            plt.show()\n",
    "        else:\n",
    "            predictions = model.predict_proba(smile_features)[:, 0]\n",
    "    else:\n",
    "        model = load(f'models/{model_path}')\n",
    "        predictions = model.predict_proba(features)[:, 0]\n",
    "        sorted_indices = np.argsort(predictions, axis=0)\n",
    "        index = [sorted_indices[-1], sorted_indices[1]]\n",
    "        explainer = shap.KernelExplainer(model.predict_proba, features)\n",
    "        shap_values = explainer.shap_values(features, nsamples=50)\n",
    "        # plot_radar(features.values[index[0], 0:5], features.values[index[1], 0:5], features.columns.astype(str).values[0:5])\n",
    "        best = True\n",
    "        for i in index:\n",
    "            print(meta.name[i])\n",
    "            shap.force_plot(explainer.expected_value[0], shap_values[0][i,:], features.iloc[i,:].values, list(features.columns.astype(str)), \n",
    "                            matplotlib=True, show=False, figsize=(20, 3.5), text_rotation=10)\n",
    "            plt.title(meta.name[i], fontsize=12)\n",
    "            plt.tight_layout()\n",
    "            plt.savefig(f\"images/{model_path.split('.')[0]}_force_{'best' if best else 'worst'}.svg\", dpi=300)\n",
    "            plt.show()\n",
    "            best = False\n",
    "\n",
    "    for pred_index, pred in enumerate(predictions):\n",
    "        index = pred_index + (meta.shape[0] * model_index)\n",
    "        results[index, :] = [meta.iloc[pred_index, 0], meta.iloc[pred_index, 1], model_path.split('-')[0], pred]\n",
    "\n",
    "results = pd.DataFrame(results, columns=['name', 'type', 'model', 'inhibitor_conf'])"
   ]
  },
  {
   "cell_type": "code",
   "execution_count": null,
   "metadata": {},
   "outputs": [],
   "source": [
    "heatmap = None\n",
    "for strength in ['strong', 'moderate', 'weak']:\n",
    "    temp = results[results.type == strength]\n",
    "    temp = temp.pivot(index='name', columns='model', values='inhibitor_conf').reset_index()\n",
    "    temp['name'] = temp.name + ' [' + strength + ']'\n",
    "    heatmap = pd.concat([heatmap, temp])\n",
    "plt.figure(figsize=(6, 6))\n",
    "plt.rcParams.update({'font.size': 7})\n",
    "x = ['CNN Structure', 'CNN SMILE', 'LR', 'NN', 'RF', 'SVM']\n",
    "y = heatmap['name'].to_list()\n",
    "z = heatmap.values[:, 1:].astype(float)\n",
    "im = plt.imshow(z, aspect='auto')\n",
    "plt.xticks(np.arange(len(x)), x)\n",
    "plt.yticks(np.arange(len(y)), y)\n",
    "for i in range(len(y)):\n",
    "    for j in range(len(x)):\n",
    "        text = plt.text(j, i, round(z[i, j], 2), ha=\"center\", va=\"center\", color=\"w\")\n",
    "plt.tight_layout()\n",
    "plt.savefig(f\"images/fda_test.svg\", dpi=300)\n",
    "plt.show()"
   ]
  },
  {
   "cell_type": "code",
   "execution_count": null,
   "metadata": {},
   "outputs": [],
   "source": []
  }
 ],
 "metadata": {
  "kernelspec": {
   "display_name": "Python 3",
   "language": "python",
   "name": "python3"
  },
  "language_info": {
   "codemirror_mode": {
    "name": "ipython",
    "version": 3
   },
   "file_extension": ".py",
   "mimetype": "text/x-python",
   "name": "python",
   "nbconvert_exporter": "python",
   "pygments_lexer": "ipython3",
   "version": "3.6.10"
  },
  "pycharm": {
   "stem_cell": {
    "cell_type": "raw",
    "metadata": {
     "collapsed": false
    },
    "source": []
   }
  }
 },
 "nbformat": 4,
 "nbformat_minor": 4
}
