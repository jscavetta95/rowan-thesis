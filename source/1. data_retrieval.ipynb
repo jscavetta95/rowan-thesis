{
 "cells": [
  {
   "cell_type": "code",
   "execution_count": null,
   "metadata": {},
   "outputs": [],
   "source": [
    "import numpy as np\n",
    "import pandas as pd\n",
    "\n",
    "from featurize import generate_descriptors, generate_fingerprints, extract_smiles, extract_smile_structures\n",
    "from pubchem import get_assay_results, get_smile"
   ]
  },
  {
   "cell_type": "code",
   "execution_count": null,
   "metadata": {
    "collapsed": false,
    "jupyter": {
     "outputs_hidden": false
    },
    "pycharm": {
     "name": "#%%\n"
    }
   },
   "outputs": [],
   "source": [
    "def create_labeled_dataset():\n",
    "    assay_data = get_assay_results(aid='1851', tids={60, 68})\n",
    "    assay_data = pd.DataFrame(assay_data, columns=['sid', 'score', 'curve_class'], dtype='object')\n",
    "\n",
    "    smiles = get_smile(sids=assay_data.iloc[:, 0].astype(int))\n",
    "    smiles = pd.DataFrame(smiles, columns=['cid', 'smile'])\n",
    "\n",
    "    assay_data = pd.concat((smiles.smile, assay_data.iloc[:, [1, 2]]), axis=1).dropna()\n",
    "\n",
    "    inhibitor = assay_data.loc[(assay_data.score >= 40) & assay_data.curve_class.isin({-1.1, -1.2, -2.1}), ['smile']]\n",
    "    inhibitor['label'] = 'inhibitor'\n",
    "\n",
    "    noninhibitor = assay_data.loc[(assay_data.score == 0) & (assay_data.curve_class == 4), ['smile']]\n",
    "    noninhibitor['label'] = 'noninhibitor'\n",
    "\n",
    "    return pd.concat((inhibitor, noninhibitor), axis=0).drop_duplicates('smile').reset_index(drop=True)"
   ]
  },
  {
   "cell_type": "code",
   "execution_count": null,
   "metadata": {
    "collapsed": false,
    "jupyter": {
     "outputs_hidden": false
    },
    "pycharm": {
     "name": "#%%\n"
    }
   },
   "outputs": [],
   "source": [
    "labeled_data = create_labeled_dataset()\n",
    "mordred_features = generate_descriptors(labeled_data.smile.to_list())\n",
    "fingerprints = generate_fingerprints(labeled_data.smile)\n",
    "labeled_data = pd.concat([labeled_data, mordred_features, fingerprints], axis=1)\n",
    "labeled_data.to_csv('data/cyp3a4_labeled_data.csv', index=False)\n",
    "\n",
    "smile_features = extract_smiles(labeled_data.smile, max_length=250)\n",
    "np.save('data/cyp3a4_smile_features', smile_features)\n",
    "\n",
    "smile_structure = extract_smile_structures(labeled_data.smile, resolution=100, scale=(-15, 15))\n",
    "np.save('data/cyp3a4_smile_structure', smile_structure)"
   ]
  }
 ],
 "metadata": {
  "kernelspec": {
   "display_name": "Python 3",
   "language": "python",
   "name": "python3"
  },
  "language_info": {
   "codemirror_mode": {
    "name": "ipython",
    "version": 3
   },
   "file_extension": ".py",
   "mimetype": "text/x-python",
   "name": "python",
   "nbconvert_exporter": "python",
   "pygments_lexer": "ipython3",
   "version": "3.6.10"
  },
  "pycharm": {
   "stem_cell": {
    "cell_type": "raw",
    "metadata": {
     "collapsed": false
    },
    "source": []
   }
  }
 },
 "nbformat": 4,
 "nbformat_minor": 4
}
