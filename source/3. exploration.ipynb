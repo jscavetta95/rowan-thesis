{
 "cells": [
  {
   "cell_type": "code",
   "execution_count": null,
   "metadata": {},
   "outputs": [],
   "source": [
    "import pandas as pd\n",
    "import matplotlib.pyplot as plt\n",
    "from joblib import load\n",
    "import shap\n",
    "import os\n",
    "import warnings  \n",
    "warnings.filterwarnings('ignore')"
   ]
  },
  {
   "cell_type": "code",
   "execution_count": null,
   "metadata": {},
   "outputs": [],
   "source": [
    "df = pd.read_csv('data/cyp3a4_labeled_data.csv', low_memory=False)\n",
    "features = df.drop(['smile', 'label'], axis=1).astype(float)\n",
    "\n",
    "def adjust_plot(title, colorbar_label):\n",
    "    plt.title(title, fontsize=11)\n",
    "    ax = plt.gcf().axes[0]\n",
    "    for label in (ax.get_xticklabels() + ax.get_yticklabels()):\n",
    "        label.set_fontsize(8)\n",
    "    for label in [ax.xaxis.label, ax.yaxis.label]:\n",
    "        label.set_fontsize(10)\n",
    "    ax = plt.gcf().axes[1]\n",
    "    for label in (ax.get_yticklabels()):\n",
    "        label.set_fontsize(8)\n",
    "    if colorbar_label:\n",
    "        ax.yaxis.label.set_fontsize(10)\n",
    "    else:\n",
    "        ax.set_ylabel('')            \n",
    "    plt.tight_layout()\n",
    "\n",
    "\n",
    "def shap_feature_importance(features, model, title, save_path, sample_size=100):\n",
    "    samples = shap.sample(features, sample_size)\n",
    "    explainer = shap.KernelExplainer(model.predict_proba, samples)\n",
    "    shap_values = explainer.shap_values(samples, nsamples=5, l1_reg=\"aic\")\n",
    "    \n",
    "    shap.summary_plot(shap_values[0], samples, feature_names=samples.columns, max_display=5, plot_size=(6, 2), show=False)\n",
    "    plt.xlabel('SHAP Value')\n",
    "    adjust_plot(title, False)\n",
    "    plt.savefig(f\"{save_path}_feature_importance.svg\", dpi=300)\n",
    "    plt.show()\n",
    "    \n",
    "    shap.dependence_plot('rank(0)', shap_values[0], samples, interaction_index='rank(1)', show=False)\n",
    "    adjust_plot(title, True)\n",
    "    plt.savefig(f\"{save_path}_dependence.svg\", dpi=300)\n",
    "    plt.show()"
   ]
  },
  {
   "cell_type": "code",
   "execution_count": null,
   "metadata": {},
   "outputs": [],
   "source": [
    "titles = ['Logistic Regression', 'Neural Network', 'Random Forest', 'Support Vector Machine']\n",
    "model_paths = os.listdir('models')\n",
    "index = 0\n",
    "for model_path in model_paths:\n",
    "    if '.h5' in model_path:\n",
    "        pass\n",
    "    else:\n",
    "        model = load(f'models/{model_path}')\n",
    "        print(model_path)\n",
    "        shap_feature_importance(features, model, titles[index], f\"images/{model_path.split('.')[0]}\")\n",
    "        index += 1"
   ]
  },
  {
   "cell_type": "code",
   "execution_count": null,
   "metadata": {},
   "outputs": [],
   "source": []
  }
 ],
 "metadata": {
  "kernelspec": {
   "display_name": "Python 3",
   "language": "python",
   "name": "python3"
  },
  "language_info": {
   "codemirror_mode": {
    "name": "ipython",
    "version": 3
   },
   "file_extension": ".py",
   "mimetype": "text/x-python",
   "name": "python",
   "nbconvert_exporter": "python",
   "pygments_lexer": "ipython3",
   "version": "3.6.10"
  },
  "pycharm": {
   "stem_cell": {
    "cell_type": "raw",
    "metadata": {
     "collapsed": false
    },
    "source": []
   }
  }
 },
 "nbformat": 4,
 "nbformat_minor": 4
}
