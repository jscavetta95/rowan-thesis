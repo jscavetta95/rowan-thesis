{
 "cells": [
  {
   "cell_type": "code",
   "execution_count": null,
   "metadata": {
    "pycharm": {
     "is_executing": false,
     "name": "#%%\n"
    }
   },
   "outputs": [],
   "source": [
    "import numpy as np\n",
    "import pandas as pd\n",
    "import optuna\n",
    "import matplotlib.pyplot as plt\n",
    "from imblearn import over_sampling, under_sampling, pipeline\n",
    "from sklearn import ensemble, svm, linear_model, neural_network\n",
    "from sklearn import impute, feature_selection, preprocessing, model_selection\n",
    "from tensorflow.keras import Sequential, Input\n",
    "from tensorflow.keras.layers import Conv1D, Conv2D, Dense, Dropout, Flatten, BatchNormalization\n",
    "from tensorflow.keras.optimizers import Adam\n",
    "from tensorflow.keras.wrappers.scikit_learn import KerasClassifier\n",
    "\n",
    "from export import export_model"
   ]
  },
  {
   "cell_type": "code",
   "execution_count": null,
   "metadata": {
    "pycharm": {
     "is_executing": false,
     "name": "#%%\n"
    }
   },
   "outputs": [],
   "source": [
    "df = pd.read_csv('data/cyp3a4_labeled_data.csv', low_memory=False)\n",
    "features = df.drop(['smile', 'label'], axis=1)\n",
    "smile_features = np.load('data/cyp3a4_smile_features.npy', allow_pickle=True)\n",
    "smile_structure = np.load('data/cyp3a4_smile_structure.npy', allow_pickle=True)\n",
    "labels = df.label.values.reshape(-1)\n",
    "\n",
    "db_path = 'sqlite:///data/p450_ml.db'\n",
    "best_scores = {'Logistic Regression': [], 'Random Forest': [], 'Support Vector Machine': [], 'Neural Network': [], 'SMILE Auto-Extractor': [], 'Structure Auto-Extractor': []}\n",
    "\n",
    "def create_pipe(trial):\n",
    "    pipe = []\n",
    "    pipe.append(impute.SimpleImputer())\n",
    "    pipe.append(preprocessing.MinMaxScaler())\n",
    "    pipe.append(feature_selection.VarianceThreshold(trial.suggest_uniform('var_thresh', 0, 0.25)))\n",
    "    balance = trial.suggest_int('balance', 0, 2)\n",
    "    if balance == 2:\n",
    "        pipe.append(over_sampling.SMOTE())\n",
    "    elif balance == 1:\n",
    "        pipe.append(under_sampling.RandomUnderSampler())\n",
    "\n",
    "    return pipe\n",
    "\n",
    "def log_score(scores, name):\n",
    "    try:\n",
    "        if scores.mean() > study.best_value: \n",
    "            best_scores[name] = scores\n",
    "    except ValueError:\n",
    "        best_scores[name] = scores"
   ]
  },
  {
   "cell_type": "markdown",
   "metadata": {
    "pycharm": {
     "name": "#%% md\n"
    }
   },
   "source": [
    "### Logistic Regression"
   ]
  },
  {
   "cell_type": "code",
   "execution_count": null,
   "metadata": {
    "pycharm": {
     "is_executing": false,
     "name": "#%%\n"
    }
   },
   "outputs": [],
   "source": [
    "def objective(trial):\n",
    "    pipe = create_pipe(trial)\n",
    "    pipe.append(linear_model.LogisticRegression(C=trial.suggest_loguniform('c', 1e-5, 1e5)))\n",
    "    classifier = pipeline.make_pipeline(*pipe)\n",
    "    scores = model_selection.cross_val_score(classifier, features, labels, scoring='accuracy', cv=model_selection.StratifiedKFold(3, shuffle=True), n_jobs=3)\n",
    "    log_score(scores, 'Logistic Regression')\n",
    "    export_model(scores.mean(), classifier, features, labels, 'models/lr-model.joblib', study)\n",
    "    return scores.mean()\n",
    "\n",
    "study = optuna.create_study(study_name='lr', storage=db_path, direction='maximize', load_if_exists=True)\n",
    "study.optimize(objective, n_trials=50)"
   ]
  },
  {
   "cell_type": "code",
   "execution_count": null,
   "metadata": {},
   "outputs": [],
   "source": [
    "fig = optuna.visualization.plot_optimization_history(study)\n",
    "fig.show()\n",
    "fig = optuna.visualization.plot_slice(study)\n",
    "fig.show()"
   ]
  },
  {
   "cell_type": "markdown",
   "metadata": {},
   "source": [
    "### Random Forest"
   ]
  },
  {
   "cell_type": "code",
   "execution_count": null,
   "metadata": {
    "pycharm": {
     "is_executing": true,
     "name": "#%%\n"
    }
   },
   "outputs": [],
   "source": [
    "def objective(trial):\n",
    "    pipe = create_pipe(trial)\n",
    "    pipe.append(ensemble.RandomForestClassifier(max_features=trial.suggest_loguniform('max_features', 0.01, 1), n_estimators=trial.suggest_int('n_estimators', 1, 1000)))\n",
    "    classifier = make_pipeline(*pipe)\n",
    "    scores = model_selection.cross_val_score(classifier, features, labels, scoring='accuracy', cv=model_selection.StratifiedKFold(3, shuffle=True), n_jobs=3)\n",
    "    log_score(scores, 'Random Forest')\n",
    "    export_model(scores.mean(), classifier, features, labels, 'models/rf-model.joblib', study)\n",
    "    return scores.mean()\n",
    "\n",
    "study = optuna.create_study(study_name='rf', storage=db_path, direction='maximize', load_if_exists=True)\n",
    "study.optimize(objective, n_trials=50)"
   ]
  },
  {
   "cell_type": "code",
   "execution_count": null,
   "metadata": {},
   "outputs": [],
   "source": [
    "fig = optuna.visualization.plot_optimization_history(study)\n",
    "fig.show()\n",
    "fig = optuna.visualization.plot_slice(study)\n",
    "fig.show()"
   ]
  },
  {
   "cell_type": "markdown",
   "metadata": {},
   "source": [
    "### Support Vector Machine"
   ]
  },
  {
   "cell_type": "code",
   "execution_count": null,
   "metadata": {
    "pycharm": {
     "is_executing": true,
     "name": "#%%\n"
    }
   },
   "outputs": [],
   "source": [
    "def objective(trial):\n",
    "    pipe = create_pipe(trial)\n",
    "    pipe.append(svm.SVC(C=trial.suggest_loguniform('c', 1e-5, 1e5), gamma=trial.suggest_loguniform('gamma', 1e-5, 1e5), probability=True))\n",
    "    classifier = make_pipeline(*pipe)\n",
    "    scores = model_selection.cross_val_score(classifier, features, labels, scoring='accuracy', cv=model_selection.StratifiedKFold(3, shuffle=True), n_jobs=3)\n",
    "    log_score(scores, 'Support Vector Machine')\n",
    "    export_model(scores.mean(), classifier, features, labels, 'models/svm-model.joblib', study)\n",
    "    return scores.mean()\n",
    "\n",
    "study = optuna.create_study(study_name='svm', storage=db_path, direction='maximize', load_if_exists=True)\n",
    "study.optimize(objective, n_trials=15)"
   ]
  },
  {
   "cell_type": "code",
   "execution_count": null,
   "metadata": {},
   "outputs": [],
   "source": [
    "fig = optuna.visualization.plot_optimization_history(study)\n",
    "fig.show()\n",
    "fig = optuna.visualization.plot_slice(study)\n",
    "fig.show()"
   ]
  },
  {
   "cell_type": "markdown",
   "metadata": {},
   "source": [
    "### Neural Network"
   ]
  },
  {
   "cell_type": "code",
   "execution_count": null,
   "metadata": {
    "pycharm": {
     "is_executing": true,
     "name": "#%%\n"
    }
   },
   "outputs": [],
   "source": [
    "def objective(trial):\n",
    "    pipe = create_pipe(trial)\n",
    "\n",
    "    layers = []\n",
    "    for i in range(trial.suggest_int('layers', 1, 3)):\n",
    "        n_units = trial.suggest_int(f'units_{i}', 1, 300)\n",
    "        layers.append(n_units)\n",
    "    \n",
    "    pipe.append(neural_network.MLPClassifier(hidden_layer_sizes=tuple(layers), alpha=trial.suggest_loguniform('alpha', 1e-10, 1e10)))\n",
    "    classifier = make_pipeline(*pipe)\n",
    "    scores = model_selection.cross_val_score(classifier, features, labels, scoring='accuracy', cv=model_selection.StratifiedKFold(3, shuffle=True), n_jobs=3)\n",
    "    log_score(scores, 'Neural Network')\n",
    "    export_model(scores.mean(), classifier, features, labels, 'models/nn-model.joblib', study)\n",
    "    return scores.mean()\n",
    "\n",
    "study = optuna.create_study(study_name='nn', storage=db_path, direction='maximize', load_if_exists=True)\n",
    "study.optimize(objective, n_trials=50)"
   ]
  },
  {
   "cell_type": "code",
   "execution_count": null,
   "metadata": {},
   "outputs": [],
   "source": [
    "fig = optuna.visualization.plot_optimization_history(study)\n",
    "fig.show()\n",
    "fig = optuna.visualization.plot_slice(study)\n",
    "fig.show()"
   ]
  },
  {
   "cell_type": "markdown",
   "metadata": {},
   "source": [
    "### Design 1D CNN model"
   ]
  },
  {
   "cell_type": "code",
   "execution_count": null,
   "metadata": {
    "collapsed": false,
    "jupyter": {
     "outputs_hidden": false
    },
    "pycharm": {
     "name": "#%%\n"
    }
   },
   "outputs": [],
   "source": [
    "def build_cnn_model_1d(cnn_layers=(64, 3, 1, 0.4), dense_layers=(32, 0.4), learning_rate=0.001, shape=(250, 28)):\n",
    "    model = Sequential()\n",
    "    model.add(Input(shape=shape))\n",
    "\n",
    "    for layer in cnn_layers:\n",
    "        model.add(Conv1D(filters=layer[0], kernel_size=layer[1], strides=layer[2], activation='relu'))\n",
    "        model.add(BatchNormalization(axis=2))\n",
    "        if layer[3] > 0:\n",
    "            model.add(Dropout(layer[3]))\n",
    "\n",
    "    model.add(Flatten())\n",
    "\n",
    "    for layer in dense_layers:\n",
    "        model.add(Dense(units=layer[0], activation='relu'))\n",
    "        model.add(BatchNormalization(axis=1))\n",
    "        if layer[1] > 0:\n",
    "            model.add(Dropout(layer[1]))\n",
    "\n",
    "    model.add(Dense(units=1, activation='sigmoid'))\n",
    "    model.compile(optimizer=Adam(lr=learning_rate), loss=\"binary_crossentropy\", metrics=[\"accuracy\"])\n",
    "\n",
    "    return model"
   ]
  },
  {
   "cell_type": "markdown",
   "metadata": {},
   "source": [
    "### Convolutional Neural Network (SMILE Extractor)"
   ]
  },
  {
   "cell_type": "code",
   "execution_count": null,
   "metadata": {
    "collapsed": false,
    "jupyter": {
     "outputs_hidden": false
    },
    "pycharm": {
     "name": "#%%\n"
    }
   },
   "outputs": [],
   "source": [
    "def objective(trial):\n",
    "    \n",
    "    cnn_layers = []\n",
    "    for i in range(trial.suggest_int('cnn_layers', 1, 2)):\n",
    "        filters = trial.suggest_int(f'filter_{i}', 1, 50)\n",
    "        kernel = trial.suggest_int(f'kernel_{i}', 1, 5)\n",
    "        stride = trial.suggest_int(f'stride_{i}', 1, 5)\n",
    "        dropout = trial.suggest_uniform(f'dropout_cnn_{i}', 0.2, 0.5)\n",
    "        cnn_layers.append((filters, kernel, stride, dropout))\n",
    "\n",
    "    dense_layers = []\n",
    "    for i in range(trial.suggest_int('dense_layers', 0, 1)):\n",
    "        n_units = trial.suggest_int(f'unit_{i}', 1, 50)\n",
    "        dropout = trial.suggest_uniform(f'dropout_nn_{i}', 0.2, 0.5)\n",
    "        dense_layers.append((n_units, dropout))\n",
    "    \n",
    "    classifier = KerasClassifier(build_fn=build_cnn_model_1d, epochs=100, batch_size=32, learning_rate=0.0005, verbose=0, \n",
    "                                 cnn_layers=tuple(cnn_layers), dense_layers=tuple(dense_layers))\n",
    "\n",
    "    scores = model_selection.cross_val_score(classifier, smile_features, labels, scoring='accuracy', cv=model_selection.StratifiedKFold(3, shuffle=True))\n",
    "    log_score(scores, 'SMILE Auto-Extractor')\n",
    "    export_model(scores.mean(), classifier, smile_features, labels, 'models/cnn-model.h5', study)\n",
    "    return scores.mean()\n",
    "\n",
    "study = optuna.create_study(study_name='cnn', storage=db_path, direction='maximize', load_if_exists=True)\n",
    "study.optimize(objective, n_trials=50)"
   ]
  },
  {
   "cell_type": "code",
   "execution_count": null,
   "metadata": {
    "collapsed": false,
    "jupyter": {
     "outputs_hidden": false
    },
    "pycharm": {
     "name": "#%%\n"
    }
   },
   "outputs": [],
   "source": [
    "fig = optuna.visualization.plot_optimization_history(study)\n",
    "fig.show()\n",
    "fig = optuna.visualization.plot_slice(study)\n",
    "fig.show()"
   ]
  },
  {
   "cell_type": "markdown",
   "metadata": {},
   "source": [
    "### Design 2D CNN model"
   ]
  },
  {
   "cell_type": "code",
   "execution_count": null,
   "metadata": {
    "collapsed": false,
    "jupyter": {
     "outputs_hidden": false
    },
    "pycharm": {
     "name": "#%%\n"
    }
   },
   "outputs": [],
   "source": [
    "def build_cnn_model_2d(cnn_layers=(64, 3, 1, 0.4), dense_layers=(32, 0.4), learning_rate=0.001, shape=(100, 100, 2)):\n",
    "    model = Sequential()\n",
    "    model.add(Input(shape=shape))\n",
    "\n",
    "    for layer in cnn_layers:\n",
    "        model.add(Conv2D(filters=layer[0], kernel_size=layer[1], strides=layer[2], padding=\"same\", activation='relu'))\n",
    "        model.add(BatchNormalization(axis=2))\n",
    "        if layer[3] > 0:\n",
    "            model.add(Dropout(layer[3]))\n",
    "\n",
    "    model.add(Flatten())\n",
    "\n",
    "    for layer in dense_layers:\n",
    "        model.add(Dense(units=layer[0], activation='relu'))\n",
    "        model.add(BatchNormalization(axis=1))\n",
    "        if layer[1] > 0:\n",
    "            model.add(Dropout(layer[1]))\n",
    "\n",
    "    model.add(Dense(units=1, activation='sigmoid'))\n",
    "    model.compile(optimizer=Adam(lr=learning_rate), loss=\"binary_crossentropy\", metrics=[\"accuracy\"])\n",
    "\n",
    "    return model"
   ]
  },
  {
   "cell_type": "markdown",
   "metadata": {},
   "source": [
    "### Convolutional Neural Network (2D Structure Extractor)"
   ]
  },
  {
   "cell_type": "code",
   "execution_count": null,
   "metadata": {},
   "outputs": [],
   "source": [
    "def objective(trial):\n",
    "    \n",
    "    cnn_layers = []\n",
    "    for i in range(trial.suggest_int('cnn_layers', 1, 6)):\n",
    "        filters = trial.suggest_int(f'filter_{i}', 1, 20)\n",
    "        kernel = trial.suggest_int(f'kernel_{i}', 1, 25)\n",
    "        stride = trial.suggest_int(f'stride_{i}', 1, 5)\n",
    "        dropout = trial.suggest_uniform(f'dropout_cnn_{i}', 0.2, 0.7)\n",
    "        cnn_layers.append((filters, kernel, stride, dropout))\n",
    "\n",
    "    dense_layers = []\n",
    "    for i in range(trial.suggest_int('dense_layers', 0, 1)):\n",
    "        n_units = trial.suggest_int(f'unit_{i}', 75, 250)\n",
    "        dropout = trial.suggest_uniform(f'dropout_nn_{i}', 0, 0.5)\n",
    "        dense_layers.append((n_units, dropout))\n",
    "    \n",
    "    classifier = KerasClassifier(build_fn=build_cnn_model_2d, epochs=75, batch_size=64, learning_rate=0.001, verbose=0,\n",
    "                                 cnn_layers=tuple(cnn_layers), dense_layers=tuple(dense_layers))\n",
    "\n",
    "    scores = model_selection.cross_val_score(classifier, smile_structure, labels, scoring='accuracy', cv=model_selection.StratifiedKFold(3, shuffle=True))\n",
    "    log_score(scores, 'Structure Auto-Extractor')\n",
    "    export_model(scores.mean(), classifier, smile_structure, labels, 'models/2d-cnn-model.h5', study)\n",
    "    return scores.mean()\n",
    "\n",
    "study = optuna.create_study(study_name='2d-cnn', storage=db_path, direction='maximize', load_if_exists=True)\n",
    "study.optimize(objective, n_trials=50)"
   ]
  },
  {
   "cell_type": "code",
   "execution_count": null,
   "metadata": {},
   "outputs": [],
   "source": [
    "fig = optuna.visualization.plot_optimization_history(study)\n",
    "fig.show()\n",
    "fig = optuna.visualization.plot_slice(study)\n",
    "fig.show()"
   ]
  },
  {
   "cell_type": "markdown",
   "metadata": {},
   "source": [
    "### Plot Results"
   ]
  },
  {
   "cell_type": "code",
   "execution_count": null,
   "metadata": {},
   "outputs": [],
   "source": [
    "best_scores = {\n",
    "    \"Logistic Regression\": [0.8366104, 0.832687, 0.8263639],\n",
    "    \"Random Forest\": [0.8410413, 0.8351801, 0.8266408],\n",
    "    \"Support Vector Machine\": [0.8265928, 0.8183329, 0.8130712],\n",
    "    \"Neural Network\": [0.8241484, 0.8232687, 0.8222099],\n",
    "    \"SMILE Auto-Extractor\": [0.8271947, 0.8208253, 0.8196676],\n",
    "    \"Structure Auto-Extractor\": [0.75602326, 0.77845472, 0.75817175]\n",
    "}"
   ]
  },
  {
   "cell_type": "code",
   "execution_count": null,
   "metadata": {},
   "outputs": [],
   "source": [
    "scores = list(best_scores.values())[:4]\n",
    "labels = list(best_scores.keys())[:4]\n",
    "\n",
    "plt.figure(figsize=(6, 3), dpi=300)\n",
    "plt.rcParams.update({'font.size': 7})\n",
    "plt.xticks(rotation=0)\n",
    "plt.ylim(0.74, 0.86)\n",
    "plt.ylabel('3-Fold Cross-Validation Accuracy')\n",
    "plt.boxplot(scores, labels=labels, boxprops={\"linewidth\": 0.8}, medianprops={\"color\": 'black', \"linewidth\": 0.8}, \n",
    "            whiskerprops={\"linewidth\": 0.8}, capprops={\"linewidth\": 0.8})\n",
    "for i in range(len(scores)):\n",
    "    y = scores[i]\n",
    "    x = np.random.normal(i+0.7, 0, size=len(y))\n",
    "    plt.plot(x, y, 'k.', markersize=2)\n",
    "plt.savefig('images/cv_accuracies_standard.svg')"
   ]
  },
  {
   "cell_type": "code",
   "execution_count": null,
   "metadata": {},
   "outputs": [],
   "source": [
    "scores = list(best_scores.values())\n",
    "scores = [scores[i] for i in [1, 4, 5]]\n",
    "labels = list(best_scores.keys())\n",
    "labels = [labels[i] for i in [1, 4, 5]]\n",
    "\n",
    "plt.figure(figsize=(6, 3), dpi=300)\n",
    "plt.rcParams.update({'font.size': 7})\n",
    "plt.xticks(rotation=0)\n",
    "plt.ylim(0.74, 0.86)\n",
    "plt.ylabel('3-Fold Cross-Validation Accuracy')\n",
    "plt.boxplot(scores, labels=labels, boxprops={\"linewidth\": 0.8}, medianprops={\"color\": 'black', \"linewidth\": 0.8}, \n",
    "            whiskerprops={\"linewidth\": 0.8}, capprops={\"linewidth\": 0.8})\n",
    "for i in range(len(scores)):\n",
    "    y = scores[i]\n",
    "    x = np.random.normal(i+0.7, 0, size=len(y))\n",
    "    plt.plot(x, y, 'k.', markersize=2)\n",
    "plt.savefig('images/cv_accuracies_auto_extract.svg')"
   ]
  },
  {
   "cell_type": "code",
   "execution_count": null,
   "metadata": {},
   "outputs": [],
   "source": [
    "study = optuna.load_study(study_name='lr', storage=db_path)\n",
    "study.best_params"
   ]
  },
  {
   "cell_type": "code",
   "execution_count": null,
   "metadata": {},
   "outputs": [],
   "source": [
    "study = optuna.load_study(study_name='rf', storage=db_path)\n",
    "study.best_params"
   ]
  },
  {
   "cell_type": "code",
   "execution_count": null,
   "metadata": {},
   "outputs": [],
   "source": [
    "study = optuna.load_study(study_name='svm', storage=db_path)\n",
    "study.best_params"
   ]
  },
  {
   "cell_type": "code",
   "execution_count": null,
   "metadata": {},
   "outputs": [],
   "source": [
    "study = optuna.load_study(study_name='nn', storage=db_path)\n",
    "study.best_params"
   ]
  },
  {
   "cell_type": "code",
   "execution_count": null,
   "metadata": {},
   "outputs": [],
   "source": [
    "study = optuna.load_study(study_name='cnn', storage=db_path)\n",
    "study.best_params"
   ]
  },
  {
   "cell_type": "code",
   "execution_count": null,
   "metadata": {},
   "outputs": [],
   "source": [
    "study = optuna.load_study(study_name='2d-cnn', storage=db_path)\n",
    "study.best_params"
   ]
  },
  {
   "cell_type": "code",
   "execution_count": null,
   "metadata": {},
   "outputs": [],
   "source": []
  }
 ],
 "metadata": {
  "kernelspec": {
   "display_name": "Python 3",
   "language": "python",
   "name": "python3"
  },
  "language_info": {
   "codemirror_mode": {
    "name": "ipython",
    "version": 3
   },
   "file_extension": ".py",
   "mimetype": "text/x-python",
   "name": "python",
   "nbconvert_exporter": "python",
   "pygments_lexer": "ipython3",
   "version": "3.6.10"
  },
  "pycharm": {
   "stem_cell": {
    "cell_type": "raw",
    "metadata": {
     "collapsed": false
    },
    "source": []
   }
  }
 },
 "nbformat": 4,
 "nbformat_minor": 4
}
